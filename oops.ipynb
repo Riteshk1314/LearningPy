{
  "nbformat": 4,
  "nbformat_minor": 0,
  "metadata": {
    "colab": {
      "provenance": [],
      "authorship_tag": "ABX9TyOa5YECO/qsKu4kScptDPmh",
      "include_colab_link": true
    },
    "kernelspec": {
      "name": "python3",
      "display_name": "Python 3"
    },
    "language_info": {
      "name": "python"
    }
  },
  "cells": [
    {
      "cell_type": "markdown",
      "metadata": {
        "id": "view-in-github",
        "colab_type": "text"
      },
      "source": [
        "<a href=\"https://colab.research.google.com/github/Riteshk1314/LearningPy/blob/main/oops.ipynb\" target=\"_parent\"><img src=\"https://colab.research.google.com/assets/colab-badge.svg\" alt=\"Open In Colab\"/></a>"
      ]
    },
    {
      "cell_type": "code",
      "execution_count": null,
      "metadata": {
        "id": "USHxURHwLNqz"
      },
      "outputs": [],
      "source": [
        "a=10\n",
        "#datatype is a class\n",
        "# int is a class\n",
        "# a is a object of class int\n",
        "#object has some properites which are called attributes\n",
        "#object has some behaviour which are called methods/functions"
      ]
    },
    {
      "cell_type": "code",
      "source": [
        "class student :\n",
        "  #pass\n",
        "  #writing pass allows us to leave class empty"
      ],
      "metadata": {
        "id": "3CFpOcQS-Dm5"
      },
      "execution_count": null,
      "outputs": []
    },
    {
      "cell_type": "code",
      "source": [
        "#there are 2 kind of attribute-\n",
        "#    1) instance attribute - diff for all obj\n",
        "#    2) class attribute- same for all object\n",
        "\n",
        "#diff obj of the same class can have diff attributes\n",
        "\n",
        "\n",
        "class student:\n",
        "  classTeacherName='kumal'\n",
        "\n",
        "s1 = student()\n",
        "s2 = student()\n",
        "s3 = student()\n",
        "#s1 is the instance of of class student\n",
        "\n",
        "s1.name = \"mohit\" #we have added the attribute\n",
        "s1.age= 20\n",
        "\n",
        "s2.rollno= 101\n",
        "\n",
        "print(s1.__dict__)#syntax for getting all instance attribute\n",
        "print(s2.__dict__)\n",
        "print(s3.__dict__)\n",
        "print(s1.name)#syntax for getting attribute value\n",
        "print(s1.classTeacherName)#we can also fetch class attribute but not __dict__\n",
        "#inbuilt functions\n",
        "\n",
        "\n",
        "#hasattr('''obj''', '''attribut'''\n",
        "print(hasattr(s1, \"name\"))\n",
        "\n",
        "#setattr(obj,attr,val)\n",
        "\n",
        "#delattr(obj,attr)\n",
        "\n",
        "#getattr(obj,attr,def_valur)   //enter def_value, we will get it if the value does not exixt for the attribute or not even attribute does not exist\n",
        "print(getattr(s2,'name','ritesh'))"
      ],
      "metadata": {
        "colab": {
          "base_uri": "https://localhost:8080/"
        },
        "id": "7njnzxhnAqeH",
        "outputId": "179c1a33-5577-4737-924a-e267addc6b0f"
      },
      "execution_count": null,
      "outputs": [
        {
          "output_type": "stream",
          "name": "stdout",
          "text": [
            "{'name': 'mohit', 'age': 20}\n",
            "{'rollno': 101}\n",
            "{}\n",
            "mohit\n",
            "kumal\n",
            "True\n",
            "ritesh\n"
          ]
        }
      ]
    },
    {
      "cell_type": "code",
      "source": [
        "#class attribute\n",
        "student.totalstd=20\n",
        "s1.totalstd=30\n",
        "print(student.totalstd)\n",
        "print(s1.totalstd)#now totalstd is an instance attribute\n",
        "\n",
        "#print(student.__dict__)  //gets all clas attribute"
      ],
      "metadata": {
        "colab": {
          "base_uri": "https://localhost:8080/"
        },
        "id": "ydxTo-WvGukh",
        "outputId": "66d49be6-9cb2-48ce-b82d-c9ae74aff2b4"
      },
      "execution_count": null,
      "outputs": [
        {
          "output_type": "stream",
          "name": "stdout",
          "text": [
            "20\n",
            "30\n"
          ]
        }
      ]
    },
    {
      "cell_type": "markdown",
      "source": [
        "METHODS\n"
      ],
      "metadata": {
        "id": "DrYNhDnnaROU"
      }
    },
    {
      "cell_type": "code",
      "source": [
        "#instance method= owned by obj\n",
        "\n",
        "#class method= owned by class\n",
        "\n",
        "#static method="
      ],
      "metadata": {
        "id": "4NXzu_rbaR3q"
      },
      "execution_count": null,
      "outputs": []
    },
    {
      "cell_type": "code",
      "source": [
        "from IPython.utils.text import strip_ansi\n",
        "class student:\n",
        "\n",
        "  totalstudent=20\n",
        "  classTeacherName=\"komal\"\n",
        "\n",
        "  def printhello(self): #self has to be here\n",
        "    print('hemlo')\n",
        "\n",
        "  def print(self,str):\n",
        "    print(str)\n",
        "\n",
        "  def printname(self):\n",
        "    print(self.name)#here name is a local variable\n",
        "\n",
        "  def addNaam(self,name):\n",
        "    self.naam=name\n",
        "\n",
        "s1=student()#creating obj\n",
        "s1.name=\"mohit\"#creating instance attribute\n",
        "s1.addName('mdohi')#using function to add name by self.naam=name.... here naam is instance attribute and name is vale passed in function\n",
        "s2=student()#creating obj\n",
        "s1.print(\"hi\")#function that prints the str passed.. teaches that 1st arg should be self\n",
        "s1.printhello() #this is interpreted as student.printhello(s1) s1 is obj and student is class\n",
        "student.printhello(s1)#function to print hello by giving object of class std\n",
        "s1.printname()#function to give name of s1, no value is passed as self.name is fetched\n",
        "print(s1.__dict__)#give all instance attribute"
      ],
      "metadata": {
        "colab": {
          "base_uri": "https://localhost:8080/"
        },
        "id": "QkGVLOZBapPh",
        "outputId": "47db5a0e-cad3-46ce-c06f-849a5676a382"
      },
      "execution_count": null,
      "outputs": [
        {
          "output_type": "stream",
          "name": "stdout",
          "text": [
            "hi\n",
            "hemlo\n",
            "hemlo\n",
            "mohit\n",
            "{'name': 'mohit', 'naam': 'mdohi'}\n"
          ]
        }
      ]
    }
  ]
}